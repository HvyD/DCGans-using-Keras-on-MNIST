{
 "cells": [
  {
   "cell_type": "code",
   "execution_count": 1,
   "metadata": {},
   "outputs": [
    {
     "name": "stderr",
     "output_type": "stream",
     "text": [
      "Using TensorFlow backend.\n"
     ]
    }
   ],
   "source": [
    "import numpy as np\n",
    "\n",
    "from scipy.io import loadmat\n",
    "\n",
    "import keras\n",
    "import keras.backend as K\n",
    "from keras.layers import Dense, Activation, LeakyReLU, BatchNormalization\n",
    "from keras.layers import Conv2D, Conv2DTranspose, Reshape, Flatten\n",
    "from keras.models import Sequential\n",
    "from keras.optimizers import Adam\n",
    "from sklearn.model_selection import train_test_split\n",
    "\n",
    "import matplotlib.pyplot as plt\n",
    "%matplotlib inline"
   ]
  },
  {
   "cell_type": "markdown",
   "metadata": {},
   "source": [
    "### Load and Process Data"
   ]
  },
  {
   "cell_type": "code",
   "execution_count": 2,
   "metadata": {},
   "outputs": [],
   "source": [
    "(X_train, y_train), (X_test, y_test) = keras.datasets.mnist.load_data()"
   ]
  },
  {
   "cell_type": "code",
   "execution_count": 3,
   "metadata": {},
   "outputs": [
    {
     "data": {
      "image/png": "[encoded data removed]",
      "text/plain": [
       "<Figure size 360x288 with 20 Axes>"
      ]
     },
     "metadata": {},
     "output_type": "display_data"
    }
   ],
   "source": [
    "plt.figure(figsize=(5, 4))\n",
    "for i in range(20):\n",
    "    plt.subplot(4, 5, i+1)\n",
    "    plt.imshow(X_train[i], cmap='gray')\n",
    "    plt.xticks([])\n",
    "    plt.yticks([])\n",
    "plt.tight_layout()\n",
    "plt.show()"
   ]
  },
  {
   "cell_type": "code",
   "execution_count": 4,
   "metadata": {},
   "outputs": [],
   "source": [
    "def preprocess(x):    \n",
    "    x = x.reshape(-1, 28, 28, 1) # 28,28,1\n",
    "    x = np.float64(x)\n",
    "    x = (x / 255 - 0.5) * 2\n",
    "    x = np.clip(x, -1, 1)\n",
    "    return x\n",
    "\n",
    "def deprocess(x):\n",
    "    x = (x / 2 + 1) * 255\n",
    "    x = np.clip(x, 0, 255)\n",
    "    x = np.uint8(x)\n",
    "    x = x.reshape(28, 28)\n",
    "    return x"
   ]
  },
  {
   "cell_type": "code",
   "execution_count": 5,
   "metadata": {},
   "outputs": [],
   "source": [
    "X_train_real = preprocess(X_train)\n",
    "X_test_real  = preprocess(X_test)"
   ]
  },
  {
   "cell_type": "markdown",
   "metadata": {},
   "source": [
    "### Generator"
   ]
  },
  {
   "cell_type": "code",
   "execution_count": 6,
   "metadata": {},
   "outputs": [],
   "source": [
    "def make_generator(input_size, leaky_alpha):\n",
    "    return Sequential([\n",
    "        Dense(784, input_shape=(input_size,)),\n",
    "        Reshape(target_shape=(7, 7, 16)),\n",
    "        BatchNormalization(),\n",
    "        LeakyReLU(alpha=leaky_alpha),\n",
    "        \n",
    "        Conv2DTranspose(32, kernel_size=5, strides=2, padding='same'), \n",
    "        BatchNormalization(),\n",
    "        LeakyReLU(alpha=leaky_alpha),\n",
    "       \n",
    "        Conv2DTranspose(1, kernel_size=5, strides=2, padding='same'),\n",
    "        Activation('tanh')\n",
    "    ])"
   ]
  },
  {
   "cell_type": "markdown",
   "metadata": {},
   "source": [
    "### Discriminator"
   ]
  },
  {
   "cell_type": "code",
   "execution_count": 7,
   "metadata": {},
   "outputs": [],
   "source": [
    "def make_discriminator(leaky_alpha):\n",
    "    return Sequential([        \n",
    "       \n",
    "        Conv2D(32, kernel_size=5, strides=2, padding='same', input_shape=(28,28,1)),\n",
    "        LeakyReLU(alpha=leaky_alpha),\n",
    "        \n",
    "        Conv2D(16, kernel_size=5, strides=2, padding='same'),   \n",
    "        BatchNormalization(),\n",
    "        LeakyReLU(alpha=leaky_alpha),\n",
    "        \n",
    "        Flatten(),\n",
    "        Dense(784),\n",
    "        BatchNormalization(),\n",
    "        LeakyReLU(alpha=leaky_alpha),\n",
    "        \n",
    "        \n",
    "        Dense(1),\n",
    "        Activation('sigmoid')        \n",
    "    ])"
   ]
  },
  {
   "cell_type": "markdown",
   "metadata": {},
   "source": [
    "### DCgans"
   ]
  },
  {
   "cell_type": "code",
   "execution_count": 8,
   "metadata": {},
   "outputs": [],
   "source": [
    "def make_DCGAN(sample_size, \n",
    "               g_learning_rate,\n",
    "               g_beta_1,\n",
    "               d_learning_rate,\n",
    "               d_beta_1,\n",
    "               leaky_alpha):\n",
    "    \n",
    "    K.clear_session()\n",
    "    \n",
    "    # generator\n",
    "    generator = make_generator(sample_size, leaky_alpha)\n",
    "\n",
    "    # discriminator\n",
    "    discriminator = make_discriminator(leaky_alpha)\n",
    "    discriminator.compile(optimizer=Adam(lr=d_learning_rate, beta_1=d_beta_1), loss='binary_crossentropy')\n",
    "    \n",
    "    # GAN\n",
    "    gan = Sequential([generator, discriminator])\n",
    "    gan.compile(optimizer=Adam(lr=g_learning_rate, beta_1=g_beta_1), loss='binary_crossentropy')\n",
    "    \n",
    "    return gan, generator, discriminator"
   ]
  },
  {
   "cell_type": "code",
   "execution_count": 9,
   "metadata": {},
   "outputs": [],
   "source": [
    "def make_latent_samples(n_samples, sample_size):\n",
    "    return np.random.normal(loc=0, scale=1, size=(n_samples, sample_size))"
   ]
  },
  {
   "cell_type": "code",
   "execution_count": 10,
   "metadata": {},
   "outputs": [],
   "source": [
    "def make_trainable(model, trainable):\n",
    "    for layer in model.layers:\n",
    "        layer.trainable = trainable"
   ]
  },
  {
   "cell_type": "code",
   "execution_count": 11,
   "metadata": {},
   "outputs": [],
   "source": [
    "def make_labels(size):\n",
    "    return np.ones([size, 1]), np.zeros([size, 1])\n"
   ]
  },
  {
   "cell_type": "code",
   "execution_count": 12,
   "metadata": {},
   "outputs": [],
   "source": [
    "def show_results(losses):\n",
    "    labels = ['Classifier', 'Discriminator', 'Generator']\n",
    "    losses = np.array(losses)    \n",
    "    \n",
    "    fig, ax = plt.subplots()\n",
    "    plt.plot(losses.T[0], label='Discriminator')\n",
    "    plt.plot(losses.T[1], label='Generator')\n",
    "    plt.title(\"Training Losses\")\n",
    "    plt.legend()\n",
    "    plt.show()"
   ]
  },
  {
   "cell_type": "code",
   "execution_count": 13,
   "metadata": {},
   "outputs": [],
   "source": [
    "def show_images(generated_images):\n",
    "    n_images = len(generated_images)\n",
    "    rows = 4\n",
    "    cols = n_images//rows\n",
    "    \n",
    "    plt.figure(figsize=(cols, rows))\n",
    "    for i in range(n_images):\n",
    "        img = deprocess(generated_images[i])\n",
    "        plt.subplot(rows, cols, i+1)\n",
    "        plt.imshow(img, cmap='gray')\n",
    "        plt.xticks([])\n",
    "        plt.yticks([])\n",
    "    plt.tight_layout()\n",
    "    plt.show()"
   ]
  },
  {
   "cell_type": "code",
   "execution_count": 14,
   "metadata": {},
   "outputs": [],
   "source": [
    "def train(\n",
    "    g_learning_rate,   \n",
    "    g_beta_1,          \n",
    "    d_learning_rate,   \n",
    "    d_beta_1,          \n",
    "    leaky_alpha,\n",
    "    smooth=0.1,        \n",
    "    sample_size=100,   \n",
    "    epochs=25,\n",
    "    batch_size=128,    \n",
    "    eval_size=16,      \n",
    "    show_details=True):\n",
    "    \n",
    "  \n",
    "    y_train_real, y_train_fake = make_labels(batch_size)\n",
    "    y_eval_real,  y_eval_fake  = make_labels(eval_size)\n",
    "\n",
    "\n",
    "    gan, generator, discriminator = make_DCGAN(\n",
    "        sample_size, \n",
    "        g_learning_rate, \n",
    "        g_beta_1,\n",
    "        d_learning_rate,\n",
    "        d_beta_1,\n",
    "        leaky_alpha)\n",
    "\n",
    "    losses = []\n",
    "    for e in range(epochs):\n",
    "        for i in range(len(X_train_real)//batch_size):\n",
    "         \n",
    "            X_batch_real = X_train_real[i*batch_size:(i+1)*batch_size]\n",
    "\n",
    "           \n",
    "            latent_samples = make_latent_samples(batch_size, sample_size)\n",
    "            X_batch_fake = generator.predict_on_batch(latent_samples)\n",
    "\n",
    "       \n",
    "            make_trainable(discriminator, True)\n",
    "            discriminator.train_on_batch(X_batch_real, y_train_real * (1 - smooth))\n",
    "            discriminator.train_on_batch(X_batch_fake, y_train_fake)\n",
    "\n",
    "       \n",
    "            make_trainable(discriminator, False)\n",
    "            gan.train_on_batch(latent_samples, y_train_real)\n",
    "\n",
    "       \n",
    "        X_eval_real = X_test_real[np.random.choice(len(X_test_real), eval_size, replace=False)]\n",
    "\n",
    "        latent_samples = make_latent_samples(eval_size, sample_size)\n",
    "        X_eval_fake = generator.predict_on_batch(latent_samples)\n",
    "\n",
    "        d_loss  = discriminator.test_on_batch(X_eval_real, y_eval_real)\n",
    "        d_loss += discriminator.test_on_batch(X_eval_fake, y_eval_fake)\n",
    "        g_loss  = gan.test_on_batch(latent_samples, y_eval_real) #\n",
    "\n",
    "        losses.append((d_loss, g_loss))\n",
    "\n",
    "        print(\"Epoch:{:>3}/{} Discriminator Loss:{:>7.4f} Generator Loss:{:>7.4f}\".format(\n",
    "            e+1, epochs, d_loss, g_loss))\n",
    "        \n",
    "        if show_details and (e+1)%10==0:\n",
    "            show_images(X_eval_fake)\n",
    "    if show_details:\n",
    "        show_results(losses)\n",
    "    return generator"
   ]
  },
  {
   "cell_type": "code",
   "execution_count": 15,
   "metadata": {},
   "outputs": [
    {
     "name": "stderr",
     "output_type": "stream",
     "text": [
      "/home/hvyd/anaconda3/lib/python3.6/site-packages/keras/engine/training.py:478: UserWarning: Discrepancy between trainable weights and collected trainable weights, did you set `model.trainable` without calling `model.compile` after ?\n",
      "  'Discrepancy between trainable weights and collected trainable'\n"
     ]
    },
    {
     "name": "stdout",
     "output_type": "stream",
     "text": [
      "Epoch:  1/25 Discriminator Loss: 1.5634 Generator Loss: 1.3659\n",
      "Epoch:  2/25 Discriminator Loss:16.1181 Generator Loss:16.1181\n",
      "Epoch:  3/25 Discriminator Loss: 5.9966 Generator Loss:16.1181\n",
      "Epoch:  4/25 Discriminator Loss: 9.7116 Generator Loss:13.0484\n",
      "Epoch:  5/25 Discriminator Loss: 3.8727 Generator Loss: 8.8546\n",
      "Epoch:  6/25 Discriminator Loss: 7.9981 Generator Loss: 7.4961\n",
      "Epoch:  7/25 Discriminator Loss:12.3012 Generator Loss:13.0019\n",
      "Epoch:  8/25 Discriminator Loss:10.4077 Generator Loss:10.3994\n",
      "Epoch:  9/25 Discriminator Loss: 7.1994 Generator Loss: 7.2883\n",
      "Epoch: 10/25 Discriminator Loss: 8.2701 Generator Loss: 9.2411\n"
     ]
    },
    {
     "data": {
      "image/png": "[encoded data removed]",
      "text/plain": [
       "<Figure size 288x288 with 16 Axes>"
      ]
     },
     "metadata": {},
     "output_type": "display_data"
    },
    {
     "name": "stdout",
     "output_type": "stream",
     "text": [
      "Epoch: 11/25 Discriminator Loss:11.5170 Generator Loss:12.4052\n",
      "Epoch: 12/25 Discriminator Loss:14.8931 Generator Loss:15.6678\n",
      "Epoch: 13/25 Discriminator Loss:13.4088 Generator Loss:15.9180\n",
      "Epoch: 14/25 Discriminator Loss:12.9478 Generator Loss:13.7004\n",
      "Epoch: 15/25 Discriminator Loss: 9.3546 Generator Loss: 8.4604\n",
      "Epoch: 16/25 Discriminator Loss: 6.1096 Generator Loss: 6.5464\n",
      "Epoch: 17/25 Discriminator Loss: 4.2559 Generator Loss: 4.9377\n",
      "Epoch: 18/25 Discriminator Loss: 4.4252 Generator Loss: 4.7559\n",
      "Epoch: 19/25 Discriminator Loss: 5.9483 Generator Loss: 6.5168\n",
      "Epoch: 20/25 Discriminator Loss: 6.8873 Generator Loss: 7.3425\n"
     ]
    },
    {
     "data": {
      "image/png": "[encoded data removed]",
      "text/plain": [
       "<Figure size 288x288 with 16 Axes>"
      ]
     },
     "metadata": {},
     "output_type": "display_data"
    },
    {
     "name": "stdout",
     "output_type": "stream",
     "text": [
      "Epoch: 21/25 Discriminator Loss: 3.2256 Generator Loss: 3.0834\n",
      "Epoch: 22/25 Discriminator Loss: 3.2370 Generator Loss: 4.9340\n",
      "Epoch: 23/25 Discriminator Loss: 7.1225 Generator Loss: 7.8361\n",
      "Epoch: 24/25 Discriminator Loss: 4.0457 Generator Loss: 4.0573\n",
      "Epoch: 25/25 Discriminator Loss: 3.6117 Generator Loss: 5.1679\n"
     ]
    },
    {
     "data": {
      "image/png": "[encoded data removed]",
      "text/plain": [
       "<Figure size 432x288 with 1 Axes>"
      ]
     },
     "metadata": {},
     "output_type": "display_data"
    },
    {
     "data": {
      "text/plain": [
       "<keras.engine.sequential.Sequential at 0x7f4e929f92e8>"
      ]
     },
     "execution_count": 15,
     "metadata": {},
     "output_type": "execute_result"
    }
   ],
   "source": [
    "train(g_learning_rate=0.0001, g_beta_1=0.9, d_learning_rate=0.001, d_beta_1=0.9, leaky_alpha=0.01)"
   ]
  }
 ],
 "metadata": {
  "kernelspec": {
   "display_name": "Python 3",
   "language": "python",
   "name": "python3"
  },
  "language_info": {
   "codemirror_mode": {
    "name": "ipython",
    "version": 3
   },
   "file_extension": ".py",
   "mimetype": "text/x-python",
   "name": "python",
   "nbconvert_exporter": "python",
   "pygments_lexer": "ipython3",
   "version": "3.6.5"
  }
 },
 "nbformat": 4,
 "nbformat_minor": 2
}
